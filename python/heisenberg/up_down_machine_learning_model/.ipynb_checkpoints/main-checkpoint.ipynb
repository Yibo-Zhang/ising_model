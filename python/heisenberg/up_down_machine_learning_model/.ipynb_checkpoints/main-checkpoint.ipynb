{
 "cells": [
  {
   "cell_type": "code",
   "execution_count": 25,
   "metadata": {},
   "outputs": [],
   "source": [
    "import numpy as np\n",
    "import matplotlib.pyplot as plt\n",
    "import torch \n",
    "from torch import nn\n",
    "from torch.utils.data import TensorDataset,Dataset,DataLoader,random_split\n",
    "import datetime"
   ]
  },
  {
   "cell_type": "markdown",
   "metadata": {},
   "source": [
    "# prepare data"
   ]
  },
  {
   "cell_type": "code",
   "execution_count": 2,
   "metadata": {},
   "outputs": [],
   "source": [
    "with open('config.npy', 'rb') as f:\n",
    "    config = np.load(f)\n",
    "with open('J.npy', 'rb') as f:\n",
    "    J = np.load(f)\n",
    "with open('energy.npy', 'rb') as f:\n",
    "    energy = np.load(f)"
   ]
  },
  {
   "cell_type": "code",
   "execution_count": 16,
   "metadata": {},
   "outputs": [],
   "source": [
    "data = TensorDataset(torch.tensor(J).float(),torch.tensor(energy).reshape(len(energy),1).float())\n",
    "\n",
    "n_train = int(len(data)*0.8)\n",
    "n_valid = len(data) - n_train\n",
    "ds_train,ds_valid = random_split(data,[n_train,n_valid])\n",
    "\n",
    "dl_train,dl_valid = DataLoader(ds_train,batch_size = 8),DataLoader(ds_valid,batch_size = 8)\n"
   ]
  },
  {
   "cell_type": "code",
   "execution_count": 4,
   "metadata": {},
   "outputs": [
    {
     "name": "stdout",
     "output_type": "stream",
     "text": [
      "torch.Size([8, 32])\n",
      "torch.Size([8])\n"
     ]
    }
   ],
   "source": [
    "for features,labels in dl_train:\n",
    "    print(features.shape)\n",
    "    print(labels.shape)\n",
    "    break"
   ]
  },
  {
   "cell_type": "markdown",
   "metadata": {},
   "source": [
    "# prepare model"
   ]
  },
  {
   "cell_type": "code",
   "execution_count": 5,
   "metadata": {},
   "outputs": [],
   "source": [
    "class Net(nn.Module): \n",
    "    def __init__(self):\n",
    "        super(Net, self).__init__()\n",
    "        self.linear1 = nn.Linear(32,16)\n",
    "        self.sigmoid1 = nn.Sigmoid()\n",
    "        self.linear2 = nn.Linear(16,1)\n",
    "        self.sigmoid2 = nn.Sigmoid()\n",
    "        \n",
    "    def forward(self,x):\n",
    "        x = self.linear1(x)\n",
    "        y = self.sigmoid1(x)\n",
    "        x = self.linear2(x)\n",
    "        y = self.sigmoid2(x)\n",
    "        return y\n",
    "        \n",
    "model = Net()"
   ]
  },
  {
   "cell_type": "code",
   "execution_count": 6,
   "metadata": {},
   "outputs": [
    {
     "name": "stdout",
     "output_type": "stream",
     "text": [
      "----------------------------------------------------------------\n",
      "        Layer (type)               Output Shape         Param #\n",
      "================================================================\n",
      "            Linear-1             [-1, 1000, 16]             528\n",
      "           Sigmoid-2             [-1, 1000, 16]               0\n",
      "            Linear-3              [-1, 1000, 1]              17\n",
      "           Sigmoid-4              [-1, 1000, 1]               0\n",
      "================================================================\n",
      "Total params: 545\n",
      "Trainable params: 545\n",
      "Non-trainable params: 0\n",
      "----------------------------------------------------------------\n",
      "Input size (MB): 0.122070\n",
      "Forward/backward pass size (MB): 0.259399\n",
      "Params size (MB): 0.002079\n",
      "Estimated Total Size (MB): 0.383549\n",
      "----------------------------------------------------------------\n"
     ]
    }
   ],
   "source": [
    "from torchkeras import summary\n",
    "summary(model,input_shape= (1000,32))"
   ]
  },
  {
   "cell_type": "code",
   "execution_count": 7,
   "metadata": {},
   "outputs": [],
   "source": [
    "model.optimizer = torch.optim.SGD(model.parameters(),lr = 0.01)\n",
    "model.loss_func = torch.nn.BCELoss()\n",
    "model.metric_func = lambda y_pred,y_true: torch.mean(1-torch.abs(y_true-y_pred))\n",
    "model.metric_name = \"auc\""
   ]
  },
  {
   "cell_type": "code",
   "execution_count": 22,
   "metadata": {},
   "outputs": [
    {
     "data": {
      "text/plain": [
       "(-17.6319637298584, -10.993547439575195)"
      ]
     },
     "execution_count": 22,
     "metadata": {},
     "output_type": "execute_result"
    }
   ],
   "source": [
    "def train_step(model,features,labels):\n",
    "    \n",
    "    # 训练模式，dropout层发生作用\n",
    "    model.train()\n",
    "    \n",
    "    # 梯度清零\n",
    "    model.optimizer.zero_grad()\n",
    "    \n",
    "    # 正向传播求损失\n",
    "    predictions = model(features)\n",
    "    loss = model.loss_func(predictions,labels)\n",
    "    metric = model.metric_func(predictions,labels)\n",
    "\n",
    "    # 反向传播求梯度\n",
    "    loss.backward()\n",
    "    model.optimizer.step()\n",
    "\n",
    "    return loss.item(),metric.item()\n",
    "\n",
    "def valid_step(model,features,labels):\n",
    "    \n",
    "    # 预测模式，dropout层不发生作用\n",
    "    model.eval()\n",
    "    # 关闭梯度计算\n",
    "    with torch.no_grad():\n",
    "        predictions = model(features)\n",
    "        loss = model.loss_func(predictions,labels)\n",
    "        metric = model.metric_func(predictions,labels)\n",
    "    \n",
    "    return loss.item(), metric.item()\n",
    "\n",
    "\n",
    "# 测试train_step效果\n",
    "features,labels = next(iter(dl_train))\n",
    "labels = labels.reshape(8,1)\n",
    "train_step(model,features,labels)"
   ]
  },
  {
   "cell_type": "code",
   "execution_count": 9,
   "metadata": {},
   "outputs": [
    {
     "data": {
      "text/plain": [
       "torch.Size([8, 1])"
      ]
     },
     "execution_count": 9,
     "metadata": {},
     "output_type": "execute_result"
    }
   ],
   "source": [
    "labels.reshape(8,1).shape"
   ]
  },
  {
   "cell_type": "code",
   "execution_count": 27,
   "metadata": {},
   "outputs": [],
   "source": [
    "def train_model(model,epochs,dl_train,dl_valid,log_step_freq):\n",
    "\n",
    "    metric_name = model.metric_name\n",
    "    print(\"Start Training...\")\n",
    "    nowtime = datetime.datetime.now().strftime('%Y-%m-%d %H:%M:%S')\n",
    "    print(\"==========\"*8 + \"%s\"%nowtime)\n",
    "\n",
    "    for epoch in range(1,epochs+1):  \n",
    "\n",
    "        # 1，训练循环-------------------------------------------------\n",
    "        loss_sum = 0.0\n",
    "        metric_sum = 0.0\n",
    "        step = 1\n",
    "\n",
    "        for step, (features,labels) in enumerate(dl_train, 1):\n",
    "\n",
    "            loss,metric = train_step(model,features,labels)\n",
    "\n",
    "            # 打印batch级别日志\n",
    "            loss_sum += loss\n",
    "            metric_sum += metric\n",
    "            if step%log_step_freq == 0:   \n",
    "                print((\"[step = %d] loss: %.3f, \"+metric_name+\": %.3f\") %\n",
    "                      (step, loss_sum/step, metric_sum/step))\n",
    "\n",
    "        # 2，验证循环-------------------------------------------------\n",
    "        val_loss_sum = 0.0\n",
    "        val_metric_sum = 0.0\n",
    "        val_step = 1\n",
    "\n",
    "        for val_step, (features,labels) in enumerate(dl_valid, 1):\n",
    "\n",
    "            val_loss,val_metric = valid_step(model,features,labels)\n",
    "\n",
    "            val_loss_sum += val_loss\n",
    "            val_metric_sum += val_metric\n",
    "\n",
    "        # 3，记录日志-------------------------------------------------\n",
    "        info = (epoch, loss_sum/step, metric_sum/step, \n",
    "                val_loss_sum/val_step, val_metric_sum/val_step)\n",
    "\n",
    "        # 打印epoch级别日志\n",
    "        print((\"\\nEPOCH = %d, loss = %.3f,\"+ metric_name + \\\n",
    "              \"  = %.3f, val_loss = %.3f, \"+\"val_\"+ metric_name+\" = %.3f\") \n",
    "              %info)\n",
    "        nowtime = datetime.datetime.now().strftime('%Y-%m-%d %H:%M:%S')\n",
    "        print(\"\\n\"+\"==========\"*8 + \"%s\"%nowtime)\n",
    "\n",
    "    print('Finished Training...')\n",
    "    \n",
    "    return info"
   ]
  },
  {
   "cell_type": "code",
   "execution_count": 29,
   "metadata": {},
   "outputs": [
    {
     "name": "stdout",
     "output_type": "stream",
     "text": [
      "Start Training...\n",
      "================================================================================2021-10-05 17:06:26\n",
      "[step = 50] loss: -497.770, auc: -11.168\n",
      "[step = 100] loss: -495.062, auc: -11.152\n",
      "\n",
      "EPOCH = 1, loss = -495.062,auc  = -11.152, val_loss = -491.924, val_auc = -11.085\n",
      "\n",
      "================================================================================2021-10-05 17:06:26\n",
      "[step = 50] loss: -497.961, auc: -11.168\n",
      "[step = 100] loss: -495.255, auc: -11.152\n",
      "\n",
      "EPOCH = 2, loss = -495.255,auc  = -11.152, val_loss = -492.114, val_auc = -11.085\n",
      "\n",
      "================================================================================2021-10-05 17:06:26\n",
      "[step = 50] loss: -498.147, auc: -11.168\n",
      "[step = 100] loss: -495.445, auc: -11.152\n",
      "\n",
      "EPOCH = 3, loss = -495.445,auc  = -11.152, val_loss = -492.300, val_auc = -11.085\n",
      "\n",
      "================================================================================2021-10-05 17:06:26\n",
      "[step = 50] loss: -498.329, auc: -11.168\n",
      "[step = 100] loss: -495.630, auc: -11.152\n",
      "\n",
      "EPOCH = 4, loss = -495.630,auc  = -11.152, val_loss = -492.482, val_auc = -11.085\n",
      "\n",
      "================================================================================2021-10-05 17:06:26\n",
      "[step = 50] loss: -498.507, auc: -11.168\n",
      "[step = 100] loss: -495.811, auc: -11.152\n",
      "\n",
      "EPOCH = 5, loss = -495.811,auc  = -11.152, val_loss = -492.660, val_auc = -11.085\n",
      "\n",
      "================================================================================2021-10-05 17:06:26\n",
      "[step = 50] loss: -498.682, auc: -11.168\n",
      "[step = 100] loss: -495.989, auc: -11.152\n",
      "\n",
      "EPOCH = 6, loss = -495.989,auc  = -11.152, val_loss = -492.835, val_auc = -11.085\n",
      "\n",
      "================================================================================2021-10-05 17:06:26\n",
      "[step = 50] loss: -498.853, auc: -11.168\n",
      "[step = 100] loss: -496.163, auc: -11.152\n",
      "\n",
      "EPOCH = 7, loss = -496.163,auc  = -11.152, val_loss = -493.006, val_auc = -11.085\n",
      "\n",
      "================================================================================2021-10-05 17:06:26\n",
      "[step = 50] loss: -499.021, auc: -11.168\n",
      "[step = 100] loss: -496.333, auc: -11.152\n",
      "\n",
      "EPOCH = 8, loss = -496.333,auc  = -11.152, val_loss = -493.173, val_auc = -11.085\n",
      "\n",
      "================================================================================2021-10-05 17:06:26\n",
      "[step = 50] loss: -499.185, auc: -11.168\n",
      "[step = 100] loss: -496.501, auc: -11.152\n",
      "\n",
      "EPOCH = 9, loss = -496.501,auc  = -11.152, val_loss = -493.338, val_auc = -11.085\n",
      "\n",
      "================================================================================2021-10-05 17:06:26\n",
      "[step = 50] loss: -499.346, auc: -11.168\n",
      "[step = 100] loss: -496.665, auc: -11.152\n",
      "\n",
      "EPOCH = 10, loss = -496.665,auc  = -11.152, val_loss = -493.499, val_auc = -11.085\n",
      "\n",
      "================================================================================2021-10-05 17:06:27\n",
      "[step = 50] loss: -499.504, auc: -11.168\n",
      "[step = 100] loss: -496.825, auc: -11.152\n",
      "\n",
      "EPOCH = 11, loss = -496.825,auc  = -11.152, val_loss = -493.657, val_auc = -11.085\n",
      "\n",
      "================================================================================2021-10-05 17:06:27\n",
      "[step = 50] loss: -499.660, auc: -11.168\n",
      "[step = 100] loss: -496.983, auc: -11.152\n",
      "\n",
      "EPOCH = 12, loss = -496.983,auc  = -11.152, val_loss = -493.812, val_auc = -11.085\n",
      "\n",
      "================================================================================2021-10-05 17:06:27\n",
      "[step = 50] loss: -499.812, auc: -11.168\n",
      "[step = 100] loss: -497.138, auc: -11.152\n",
      "\n",
      "EPOCH = 13, loss = -497.138,auc  = -11.152, val_loss = -493.965, val_auc = -11.085\n",
      "\n",
      "================================================================================2021-10-05 17:06:27\n",
      "[step = 50] loss: -499.962, auc: -11.168\n",
      "[step = 100] loss: -497.291, auc: -11.152\n",
      "\n",
      "EPOCH = 14, loss = -497.291,auc  = -11.152, val_loss = -494.115, val_auc = -11.085\n",
      "\n",
      "================================================================================2021-10-05 17:06:27\n",
      "[step = 50] loss: -500.109, auc: -11.168\n",
      "[step = 100] loss: -497.440, auc: -11.152\n",
      "\n",
      "EPOCH = 15, loss = -497.440,auc  = -11.152, val_loss = -494.262, val_auc = -11.085\n",
      "\n",
      "================================================================================2021-10-05 17:06:27\n",
      "[step = 50] loss: -500.254, auc: -11.168\n",
      "[step = 100] loss: -497.587, auc: -11.152\n",
      "\n",
      "EPOCH = 16, loss = -497.587,auc  = -11.152, val_loss = -494.407, val_auc = -11.085\n",
      "\n",
      "================================================================================2021-10-05 17:06:27\n",
      "[step = 50] loss: -500.396, auc: -11.168\n",
      "[step = 100] loss: -497.732, auc: -11.152\n",
      "\n",
      "EPOCH = 17, loss = -497.732,auc  = -11.152, val_loss = -494.550, val_auc = -11.085\n",
      "\n",
      "================================================================================2021-10-05 17:06:27\n",
      "[step = 50] loss: -500.536, auc: -11.168\n",
      "[step = 100] loss: -497.874, auc: -11.152\n",
      "\n",
      "EPOCH = 18, loss = -497.874,auc  = -11.152, val_loss = -494.690, val_auc = -11.085\n",
      "\n",
      "================================================================================2021-10-05 17:06:27\n",
      "[step = 50] loss: -500.673, auc: -11.168\n",
      "[step = 100] loss: -498.014, auc: -11.152\n",
      "\n",
      "EPOCH = 19, loss = -498.014,auc  = -11.152, val_loss = -494.828, val_auc = -11.085\n",
      "\n",
      "================================================================================2021-10-05 17:06:27\n",
      "[step = 50] loss: -500.808, auc: -11.168\n",
      "[step = 100] loss: -498.152, auc: -11.152\n",
      "\n",
      "EPOCH = 20, loss = -498.152,auc  = -11.152, val_loss = -494.963, val_auc = -11.085\n",
      "\n",
      "================================================================================2021-10-05 17:06:27\n",
      "Finished Training...\n"
     ]
    }
   ],
   "source": [
    "epochs = 20\n",
    "\n",
    "history = train_model(model,epochs,dl_train,dl_valid,log_step_freq = 50)"
   ]
  },
  {
   "cell_type": "code",
   "execution_count": 30,
   "metadata": {},
   "outputs": [
    {
     "data": {
      "text/plain": [
       "(20,\n",
       " -498.15185546875,\n",
       " -11.152167596817016,\n",
       " -494.96343383789065,\n",
       " -11.0851762008667)"
      ]
     },
     "execution_count": 30,
     "metadata": {},
     "output_type": "execute_result"
    }
   ],
   "source": [
    "history"
   ]
  },
  {
   "cell_type": "code",
   "execution_count": null,
   "metadata": {},
   "outputs": [],
   "source": []
  }
 ],
 "metadata": {
  "kernelspec": {
   "display_name": "Python 3",
   "language": "python",
   "name": "python3"
  },
  "language_info": {
   "codemirror_mode": {
    "name": "ipython",
    "version": 3
   },
   "file_extension": ".py",
   "mimetype": "text/x-python",
   "name": "python",
   "nbconvert_exporter": "python",
   "pygments_lexer": "ipython3",
   "version": "3.8.5"
  }
 },
 "nbformat": 4,
 "nbformat_minor": 4
}
