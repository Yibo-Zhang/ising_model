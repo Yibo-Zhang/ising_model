{
 "cells": [
  {
   "cell_type": "code",
   "execution_count": 1,
   "id": "black-yacht",
   "metadata": {},
   "outputs": [],
   "source": [
    "import numpy as np \n",
    "from main import *\n",
    "import matplotlib.pyplot as plt"
   ]
  },
  {
   "cell_type": "code",
   "execution_count": 14,
   "id": "fabulous-valuable",
   "metadata": {},
   "outputs": [
    {
     "name": "stdout",
     "output_type": "stream",
     "text": [
      "已完成第0步模拟\n",
      "已完成第300步模拟\n",
      "已完成第600步模拟\n",
      "已完成第900步模拟\n",
      "totally cost 0.7579822540283203\n",
      "已完成第0步模拟\n",
      "已完成第300步模拟\n",
      "已完成第600步模拟\n",
      "已完成第900步模拟\n",
      "totally cost 0.7132439613342285\n",
      "已完成第0步模拟\n",
      "已完成第300步模拟\n",
      "已完成第600步模拟\n",
      "已完成第900步模拟\n",
      "totally cost 0.718717098236084\n",
      "已完成第0步模拟\n",
      "已完成第300步模拟\n",
      "已完成第600步模拟\n",
      "已完成第900步模拟\n",
      "totally cost 0.7199671268463135\n"
     ]
    },
    {
     "data": {
      "image/png": "[encoded data removed]",
      "text/plain": [
       "<Figure size 432x288 with 1 Axes>"
      ]
     },
     "metadata": {
      "needs_background": "light"
     },
     "output_type": "display_data"
    }
   ],
   "source": [
    "perturbation_mode_1 = Perturbation_model(N=3,step=1000)\n",
    "perturbation_mode_1.simulation()\n",
    "perturbation_mode_2 = Perturbation_model(N=3,step=1000)\n",
    "perturbation_mode_2.simulation()\n",
    "perturbation_mode_3 = Perturbation_model(N=3,step=1000)\n",
    "perturbation_mode_3.simulation()\n",
    "perturbation_mode_4 = Perturbation_model(N=3,step=1000)\n",
    "perturbation_mode_4.simulation()"
   ]
  },
  {
   "cell_type": "code",
   "execution_count": 13,
   "id": "third-journalist",
   "metadata": {
    "scrolled": true
   },
   "outputs": [
    {
     "name": "stdout",
     "output_type": "stream",
     "text": [
      "已完成第0步模拟\n",
      "已完成第300步模拟\n",
      "已完成第600步模拟\n",
      "已完成第900步模拟\n",
      "totally cost 0.7635979652404785\n",
      "已完成第0步模拟\n",
      "已完成第300步模拟\n",
      "已完成第600步模拟\n",
      "已完成第900步模拟\n",
      "totally cost 0.7114269733428955\n",
      "已完成第0步模拟\n",
      "已完成第300步模拟\n",
      "已完成第600步模拟\n",
      "已完成第900步模拟\n",
      "totally cost 0.7113640308380127\n",
      "已完成第0步模拟\n",
      "已完成第300步模拟\n",
      "已完成第600步模拟\n",
      "已完成第900步模拟\n",
      "totally cost 0.7133698463439941\n"
     ]
    },
    {
     "data": {
      "image/png": "[encoded data removed]",
      "text/plain": [
       "<Figure size 432x288 with 1 Axes>"
      ]
     },
     "metadata": {
      "needs_background": "light"
     },
     "output_type": "display_data"
    }
   ],
   "source": [
    "simple_flip_model_1 = Up_down_flip_model(N=3,step=1000)\n",
    "simple_flip_model_1.simulation()\n",
    "simple_flip_model_2 = Up_down_flip_model(N=3,step=1000)\n",
    "simple_flip_model_2.simulation()\n",
    "simple_flip_model_3 = Up_down_flip_model(N=3,step=1000)\n",
    "simple_flip_model_3.simulation()\n",
    "simple_flip_model_4 = Up_down_flip_model(N=3,step=1000)\n",
    "simple_flip_model_4.simulation()"
   ]
  },
  {
   "cell_type": "code",
   "execution_count": 16,
   "id": "basic-briefing",
   "metadata": {},
   "outputs": [
    {
     "name": "stdout",
     "output_type": "stream",
     "text": [
      "已完成第0步模拟\n",
      "已完成第300步模拟\n",
      "已完成第600步模拟\n",
      "已完成第900步模拟\n",
      "totally cost 8.911910772323608\n",
      "已完成第0步模拟\n",
      "已完成第300步模拟\n",
      "已完成第600步模拟\n",
      "已完成第900步模拟\n",
      "totally cost 8.776095151901245\n",
      "已完成第0步模拟\n",
      "已完成第300步模拟\n",
      "已完成第600步模拟\n",
      "已完成第900步模拟\n",
      "totally cost 8.791247129440308\n",
      "已完成第0步模拟\n",
      "已完成第300步模拟\n",
      "已完成第600步模拟\n",
      "已完成第900步模拟\n",
      "totally cost 8.76943302154541\n"
     ]
    },
    {
     "data": {
      "image/png": "[encoded data removed]",
      "text/plain": [
       "<Figure size 432x288 with 1 Axes>"
      ]
     },
     "metadata": {
      "needs_background": "light"
     },
     "output_type": "display_data"
    }
   ],
   "source": [
    "New_direction_model_1 = New_direction_model(N=10,step=100)\n",
    "New_direction_model_1.simulation()\n",
    "New_direction_model_2 = New_direction_model(N=10,step=100)\n",
    "New_direction_model_2.simulation()\n",
    "New_direction_model_3 = New_direction_model(N=10,step=100)\n",
    "New_direction_model_3.simulation()\n",
    "New_direction_model_4 = New_direction_model(N=10,step=100)\n",
    "New_direction_model_4.simulation()"
   ]
  },
  {
   "cell_type": "code",
   "execution_count": 18,
   "id": "further-resident",
   "metadata": {},
   "outputs": [
    {
     "ename": "NameError",
     "evalue": "name 'cal_cartesion' is not defined",
     "output_type": "error",
     "traceback": [
      "\u001b[0;31m---------------------------------------------------------------------------\u001b[0m",
      "\u001b[0;31mNameError\u001b[0m                                 Traceback (most recent call last)",
      "\u001b[0;32m<ipython-input-18-c432c8647299>\u001b[0m in \u001b[0;36m<module>\u001b[0;34m\u001b[0m\n\u001b[0;32m----> 1\u001b[0;31m \u001b[0mNew_direction_model_4\u001b[0m\u001b[0;34m.\u001b[0m\u001b[0mplot_spin_z\u001b[0m\u001b[0;34m(\u001b[0m\u001b[0;34m)\u001b[0m\u001b[0;34m\u001b[0m\u001b[0;34m\u001b[0m\u001b[0m\n\u001b[0m",
      "\u001b[0;32m~/Documents/GitHub/ising_model/python/heisenberg/main.py\u001b[0m in \u001b[0;36mplot_spin_z\u001b[0;34m(self)\u001b[0m\n\u001b[1;32m    193\u001b[0m     \u001b[0;32mdef\u001b[0m \u001b[0mplot_spin_z\u001b[0m\u001b[0;34m(\u001b[0m\u001b[0mself\u001b[0m\u001b[0;34m)\u001b[0m\u001b[0;34m:\u001b[0m\u001b[0;34m\u001b[0m\u001b[0;34m\u001b[0m\u001b[0m\n\u001b[1;32m    194\u001b[0m         \u001b[0mN\u001b[0m \u001b[0;34m=\u001b[0m \u001b[0mself\u001b[0m\u001b[0;34m.\u001b[0m\u001b[0mN\u001b[0m\u001b[0;34m\u001b[0m\u001b[0;34m\u001b[0m\u001b[0m\n\u001b[0;32m--> 195\u001b[0;31m         \u001b[0mcartesion\u001b[0m \u001b[0;34m=\u001b[0m \u001b[0mcal_cartesion\u001b[0m\u001b[0;34m(\u001b[0m\u001b[0mself\u001b[0m\u001b[0;34m.\u001b[0m\u001b[0mconfig\u001b[0m\u001b[0;34m)\u001b[0m\u001b[0;34m\u001b[0m\u001b[0;34m\u001b[0m\u001b[0m\n\u001b[0m\u001b[1;32m    196\u001b[0m         \u001b[0mz_direction_config\u001b[0m \u001b[0;34m=\u001b[0m \u001b[0mcartesion\u001b[0m\u001b[0;34m[\u001b[0m\u001b[0;36m2\u001b[0m\u001b[0;34m,\u001b[0m\u001b[0;34m:\u001b[0m\u001b[0;34m,\u001b[0m\u001b[0;34m:\u001b[0m\u001b[0;34m]\u001b[0m\u001b[0;34m\u001b[0m\u001b[0;34m\u001b[0m\u001b[0m\n\u001b[1;32m    197\u001b[0m         \u001b[0mx_position\u001b[0m \u001b[0;34m=\u001b[0m \u001b[0mnp\u001b[0m\u001b[0;34m.\u001b[0m\u001b[0mlinspace\u001b[0m\u001b[0;34m(\u001b[0m\u001b[0;36m0\u001b[0m\u001b[0;34m,\u001b[0m\u001b[0;36m1\u001b[0m\u001b[0;34m,\u001b[0m\u001b[0mN\u001b[0m\u001b[0;34m)\u001b[0m\u001b[0;34m\u001b[0m\u001b[0;34m\u001b[0m\u001b[0m\n",
      "\u001b[0;31mNameError\u001b[0m: name 'cal_cartesion' is not defined"
     ]
    }
   ],
   "source": [
    "New_direction_model_4.plot_spin_z()"
   ]
  },
  {
   "cell_type": "code",
   "execution_count": null,
   "id": "liberal-priest",
   "metadata": {},
   "outputs": [],
   "source": []
  }
 ],
 "metadata": {
  "kernelspec": {
   "display_name": "Python 3",
   "language": "python",
   "name": "python3"
  },
  "language_info": {
   "codemirror_mode": {
    "name": "ipython",
    "version": 3
   },
   "file_extension": ".py",
   "mimetype": "text/x-python",
   "name": "python",
   "nbconvert_exporter": "python",
   "pygments_lexer": "ipython3",
   "version": "3.8.5"
  }
 },
 "nbformat": 4,
 "nbformat_minor": 5
}
