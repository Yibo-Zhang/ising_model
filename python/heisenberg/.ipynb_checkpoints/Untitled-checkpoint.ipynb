{
 "cells": [
  {
   "cell_type": "code",
   "execution_count": 1,
   "id": "novel-sailing",
   "metadata": {},
   "outputs": [],
   "source": [
    "import numpy as np \n",
    "from main import *\n",
    "import matplotlib.pyplot as plt"
   ]
  },
  {
   "cell_type": "code",
   "execution_count": 2,
   "id": "looking-doctrine",
   "metadata": {},
   "outputs": [],
   "source": [
    "# perturbation_mode_1 = Perturbation_model(N=10,step=2000,label='lambda: 0.1')\n",
    "# perturbation_mode_1.simulation(lamda=0.1)\n",
    "# perturbation_mode_2 = Perturbation_model(N=10,step=2000,label='lambda: 0.2')\n",
    "# perturbation_mode_2.simulation(lamda=0.2)\n",
    "# perturbation_mode_3 = Perturbation_model(N=10,step=2000,label='lambda: 0.3')\n",
    "# perturbation_mode_3.simulation(lamda=0.3)\n",
    "# perturbation_mode_4 = Perturbation_model(N=10,step=2000,label='lambda: 0.4')\n",
    "# perturbation_mode_4.simulation(lamda=0.4)"
   ]
  },
  {
   "cell_type": "code",
   "execution_count": 9,
   "id": "different-conviction",
   "metadata": {
    "scrolled": false
   },
   "outputs": [
    {
     "name": "stdout",
     "output_type": "stream",
     "text": [
      "已完成第0步模拟\n",
      "已完成第300步模拟\n",
      "已完成第600步模拟\n",
      "已完成第900步模拟\n",
      "已完成第1200步模拟\n",
      "已完成第1500步模拟\n",
      "已完成第1800步模拟\n",
      "已完成第2100步模拟\n",
      "已完成第2400步模拟\n",
      "已完成第2700步模拟\n",
      "已完成第3000步模拟\n",
      "已完成第3300步模拟\n",
      "已完成第3600步模拟\n",
      "已完成第3900步模拟\n",
      "已完成第4200步模拟\n",
      "已完成第4500步模拟\n",
      "已完成第4800步模拟\n",
      "已完成第5100步模拟\n",
      "已完成第5400步模拟\n",
      "已完成第5700步模拟\n",
      "已完成第6000步模拟\n",
      "已完成第6300步模拟\n",
      "已完成第6600步模拟\n",
      "已完成第6900步模拟\n",
      "已完成第7200步模拟\n",
      "已完成第7500步模拟\n",
      "已完成第7800步模拟\n",
      "已完成第8100步模拟\n",
      "已完成第8400步模拟\n",
      "已完成第8700步模拟\n",
      "已完成第9000步模拟\n",
      "已完成第9300步模拟\n",
      "已完成第9600步模拟\n",
      "已完成第9900步模拟\n",
      "totally cost 90.70616388320923\n",
      "已完成第0步模拟\n",
      "已完成第300步模拟\n",
      "已完成第600步模拟\n",
      "已完成第900步模拟\n",
      "已完成第1200步模拟\n",
      "已完成第1500步模拟\n",
      "已完成第1800步模拟\n",
      "已完成第2100步模拟\n",
      "已完成第2400步模拟\n",
      "已完成第2700步模拟\n",
      "已完成第3000步模拟\n",
      "已完成第3300步模拟\n",
      "已完成第3600步模拟\n",
      "已完成第3900步模拟\n",
      "已完成第4200步模拟\n",
      "已完成第4500步模拟\n",
      "已完成第4800步模拟\n",
      "已完成第5100步模拟\n",
      "已完成第5400步模拟\n",
      "已完成第5700步模拟\n",
      "已完成第6000步模拟\n",
      "已完成第6300步模拟\n",
      "已完成第6600步模拟\n",
      "已完成第6900步模拟\n",
      "已完成第7200步模拟\n",
      "已完成第7500步模拟\n",
      "已完成第7800步模拟\n",
      "已完成第8100步模拟\n",
      "已完成第8400步模拟\n",
      "已完成第8700步模拟\n",
      "已完成第9000步模拟\n",
      "已完成第9300步模拟\n",
      "已完成第9600步模拟\n",
      "已完成第9900步模拟\n",
      "totally cost 90.79494714736938\n",
      "已完成第0步模拟\n",
      "已完成第300步模拟\n",
      "已完成第600步模拟\n",
      "已完成第900步模拟\n",
      "已完成第1200步模拟\n",
      "已完成第1500步模拟\n",
      "已完成第1800步模拟\n",
      "已完成第2100步模拟\n",
      "已完成第2400步模拟\n",
      "已完成第2700步模拟\n",
      "已完成第3000步模拟\n",
      "已完成第3300步模拟\n",
      "已完成第3600步模拟\n",
      "已完成第3900步模拟\n",
      "已完成第4200步模拟\n",
      "已完成第4500步模拟\n",
      "已完成第4800步模拟\n",
      "已完成第5100步模拟\n",
      "已完成第5400步模拟\n",
      "已完成第5700步模拟\n",
      "已完成第6000步模拟\n",
      "已完成第6300步模拟\n",
      "已完成第6600步模拟\n",
      "已完成第6900步模拟\n",
      "已完成第7200步模拟\n",
      "已完成第7500步模拟\n",
      "已完成第7800步模拟\n",
      "已完成第8100步模拟\n",
      "已完成第8400步模拟\n",
      "已完成第8700步模拟\n",
      "已完成第9000步模拟\n",
      "已完成第9300步模拟\n",
      "已完成第9600步模拟\n",
      "已完成第9900步模拟\n",
      "totally cost 91.1903121471405\n",
      "已完成第0步模拟\n",
      "已完成第300步模拟\n",
      "已完成第600步模拟\n",
      "已完成第900步模拟\n",
      "已完成第1200步模拟\n",
      "已完成第1500步模拟\n",
      "已完成第1800步模拟\n",
      "已完成第2100步模拟\n",
      "已完成第2400步模拟\n",
      "已完成第2700步模拟\n",
      "已完成第3000步模拟\n",
      "已完成第3300步模拟\n",
      "已完成第3600步模拟\n",
      "已完成第3900步模拟\n",
      "已完成第4200步模拟\n",
      "已完成第4500步模拟\n",
      "已完成第4800步模拟\n",
      "已完成第5100步模拟\n",
      "已完成第5400步模拟\n",
      "已完成第5700步模拟\n",
      "已完成第6000步模拟\n",
      "已完成第6300步模拟\n",
      "已完成第6600步模拟\n",
      "已完成第6900步模拟\n",
      "已完成第7200步模拟\n",
      "已完成第7500步模拟\n",
      "已完成第7800步模拟\n",
      "已完成第8100步模拟\n",
      "已完成第8400步模拟\n",
      "已完成第8700步模拟\n",
      "已完成第9000步模拟\n",
      "已完成第9300步模拟\n",
      "已完成第9600步模拟\n",
      "已完成第9900步模拟\n",
      "totally cost 91.82505226135254\n"
     ]
    },
    {
     "data": {
      "image/png": "[encoded data removed]",
      "text/plain": [
       "<Figure size 432x288 with 1 Axes>"
      ]
     },
     "metadata": {
      "needs_background": "light"
     },
     "output_type": "display_data"
    }
   ],
   "source": [
    "simple_flip_model_1 = Up_down_flip_model(N=10,step=10000,label='randmom:1')\n",
    "simple_flip_model_1.simulation(temperature=1)\n",
    "simple_flip_model_2 = Up_down_flip_model(N=10,step=10000,label='randmom:2')\n",
    "simple_flip_model_2.simulation()\n",
    "simple_flip_model_3 = Up_down_flip_model(N=10,step=10000,label='randmom:3')\n",
    "simple_flip_model_3.simulation()\n",
    "simple_flip_model_4 = Up_down_flip_model(N=10,step=10000,label='randmom:4')\n",
    "simple_flip_model_4.simulation()"
   ]
  },
  {
   "cell_type": "code",
   "execution_count": 5,
   "id": "thrown-possible",
   "metadata": {},
   "outputs": [],
   "source": [
    "# xyz1 = simple_flip_model_1.cal_cartesion(simple_flip_model_1.config)\n",
    "# xyz2 = simple_flip_model_2.cal_cartesion(simple_flip_model_2.config)\n",
    "# xyz3 = simple_flip_model_3.cal_cartesion(simple_flip_model_3.config)\n",
    "# xyz4 = simple_flip_model_4.cal_cartesion(simple_flip_model_4.config)"
   ]
  },
  {
   "cell_type": "code",
   "execution_count": null,
   "id": "documented-setup",
   "metadata": {},
   "outputs": [],
   "source": []
  },
  {
   "cell_type": "code",
   "execution_count": 6,
   "id": "boxed-gauge",
   "metadata": {},
   "outputs": [],
   "source": [
    "# New_direction_model_1 = New_direction_model(N=10,step=1000,label = 'lambda: 0.1')\n",
    "# New_direction_model_1.simulation(lamda=0.1)\n",
    "# New_direction_model_2 = New_direction_model(N=10,step=1000,label = 'lambda: 0.2')\n",
    "# New_direction_model_2.simulation(lamda=0.2)\n",
    "# New_direction_model_3 = New_direction_model(N=10,step=1000,label = 'lambda: 0.3')\n",
    "# New_direction_model_3.simulation(lamda=0.3)\n",
    "# New_direction_model_4 = New_direction_model(N=10,step=1000,label = 'lambda: 0.4')\n",
    "# New_direction_model_4.simulation(lamda=0.4)"
   ]
  },
  {
   "cell_type": "code",
   "execution_count": null,
   "id": "robust-sheriff",
   "metadata": {},
   "outputs": [],
   "source": []
  },
  {
   "cell_type": "code",
   "execution_count": 7,
   "id": "expected-boards",
   "metadata": {},
   "outputs": [
    {
     "data": {
      "text/plain": [
       "3.141592653589793"
      ]
     },
     "execution_count": 7,
     "metadata": {},
     "output_type": "execute_result"
    }
   ],
   "source": [
    "(0/math.pi+1)%2*math.pi"
   ]
  },
  {
   "cell_type": "code",
   "execution_count": null,
   "id": "changing-charlotte",
   "metadata": {},
   "outputs": [],
   "source": []
  }
 ],
 "metadata": {
  "kernelspec": {
   "display_name": "Python 3",
   "language": "python",
   "name": "python3"
  },
  "language_info": {
   "codemirror_mode": {
    "name": "ipython",
    "version": 3
   },
   "file_extension": ".py",
   "mimetype": "text/x-python",
   "name": "python",
   "nbconvert_exporter": "python",
   "pygments_lexer": "ipython3",
   "version": "3.8.5"
  }
 },
 "nbformat": 4,
 "nbformat_minor": 5
}
