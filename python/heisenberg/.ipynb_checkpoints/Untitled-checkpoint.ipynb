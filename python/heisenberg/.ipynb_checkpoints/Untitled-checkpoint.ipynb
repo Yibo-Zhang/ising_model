{
 "cells": [
  {
   "cell_type": "code",
   "execution_count": 1,
   "id": "black-yacht",
   "metadata": {},
   "outputs": [],
   "source": [
    "import numpy as np \n",
    "from main import *\n",
    "import matplotlib.pyplot as plt"
   ]
  },
  {
   "cell_type": "code",
   "execution_count": 2,
   "id": "flush-webster",
   "metadata": {},
   "outputs": [
    {
     "name": "stdout",
     "output_type": "stream",
     "text": [
      "已完成第0步模拟\n",
      "totally cost 0.597571849822998\n"
     ]
    },
    {
     "data": {
      "text/plain": [
       "[<matplotlib.lines.Line2D at 0x7f7faa09ffa0>]"
      ]
     },
     "execution_count": 2,
     "metadata": {},
     "output_type": "execute_result"
    },
    {
     "data": {
      "image/png": "[encoded data removed]",
      "text/plain": [
       "<Figure size 432x288 with 1 Axes>"
      ]
     },
     "metadata": {
      "needs_background": "light"
     },
     "output_type": "display_data"
    }
   ],
   "source": [
    "Energy,config,alpha  = perturbation_simulation(grid_size = 10, step=100)\n",
    "plt.plot(Energy)"
   ]
  },
  {
   "cell_type": "code",
   "execution_count": 3,
   "id": "returning-above",
   "metadata": {},
   "outputs": [
    {
     "name": "stdout",
     "output_type": "stream",
     "text": [
      "已完成第0步模拟\n",
      "totally cost 0.582507848739624\n"
     ]
    },
    {
     "data": {
      "text/plain": [
       "[<matplotlib.lines.Line2D at 0x7f7faa151430>]"
      ]
     },
     "execution_count": 3,
     "metadata": {},
     "output_type": "execute_result"
    },
    {
     "data": {
      "image/png": "[encoded data removed]",
      "text/plain": [
       "<Figure size 432x288 with 1 Axes>"
      ]
     },
     "metadata": {
      "needs_background": "light"
     },
     "output_type": "display_data"
    }
   ],
   "source": [
    "Energy,config,alpha  = new_direction_simulation(grid_size = 10, step=100)\n",
    "plt.plot(Energy)"
   ]
  },
  {
   "cell_type": "code",
   "execution_count": 4,
   "id": "fallen-excerpt",
   "metadata": {},
   "outputs": [
    {
     "ename": "NameError",
     "evalue": "name 'grid' is not defined",
     "output_type": "error",
     "traceback": [
      "\u001b[0;31m---------------------------------------------------------------------------\u001b[0m",
      "\u001b[0;31mNameError\u001b[0m                                 Traceback (most recent call last)",
      "\u001b[0;32m<ipython-input-4-3ab18b59966c>\u001b[0m in \u001b[0;36m<module>\u001b[0;34m\u001b[0m\n\u001b[1;32m      8\u001b[0m         \u001b[0mnew_theta\u001b[0m \u001b[0;34m=\u001b[0m \u001b[0mnp\u001b[0m\u001b[0;34m.\u001b[0m\u001b[0mrandom\u001b[0m\u001b[0;34m.\u001b[0m\u001b[0mrand\u001b[0m\u001b[0;34m(\u001b[0m\u001b[0;34m)\u001b[0m\u001b[0;34m*\u001b[0m\u001b[0mmath\u001b[0m\u001b[0;34m.\u001b[0m\u001b[0mpi\u001b[0m \u001b[0;31m# -0.25pi - 0.25pi\u001b[0m\u001b[0;34m\u001b[0m\u001b[0;34m\u001b[0m\u001b[0m\n\u001b[1;32m      9\u001b[0m         \u001b[0mnew_beta\u001b[0m \u001b[0;34m=\u001b[0m \u001b[0mnp\u001b[0m\u001b[0;34m.\u001b[0m\u001b[0mrandom\u001b[0m\u001b[0;34m.\u001b[0m\u001b[0mrand\u001b[0m\u001b[0;34m(\u001b[0m\u001b[0;34m)\u001b[0m\u001b[0;34m*\u001b[0m\u001b[0;36m2\u001b[0m\u001b[0;34m*\u001b[0m\u001b[0mmath\u001b[0m\u001b[0;34m.\u001b[0m\u001b[0mpi\u001b[0m \u001b[0;31m# -0.25pi - 0.25pi\u001b[0m\u001b[0;34m\u001b[0m\u001b[0;34m\u001b[0m\u001b[0m\n\u001b[0;32m---> 10\u001b[0;31m         \u001b[0morigin_energy\u001b[0m \u001b[0;34m=\u001b[0m \u001b[0mcalculate_single_energy\u001b[0m\u001b[0;34m(\u001b[0m\u001b[0mgrid\u001b[0m\u001b[0;34m,\u001b[0m \u001b[0ma\u001b[0m\u001b[0;34m,\u001b[0m \u001b[0mb\u001b[0m\u001b[0;34m,\u001b[0m \u001b[0malpha\u001b[0m\u001b[0;34m)\u001b[0m\u001b[0;34m\u001b[0m\u001b[0;34m\u001b[0m\u001b[0m\n\u001b[0m\u001b[1;32m     11\u001b[0m         \u001b[0mlater_energy\u001b[0m \u001b[0;34m=\u001b[0m \u001b[0mcalculate_new_direction_energy\u001b[0m\u001b[0;34m(\u001b[0m\u001b[0mgrid\u001b[0m\u001b[0;34m,\u001b[0m\u001b[0ma\u001b[0m\u001b[0;34m,\u001b[0m\u001b[0mb\u001b[0m\u001b[0;34m,\u001b[0m\u001b[0malpha\u001b[0m\u001b[0;34m,\u001b[0m\u001b[0mnew_theta\u001b[0m\u001b[0;34m,\u001b[0m\u001b[0mnew_beta\u001b[0m\u001b[0;34m)\u001b[0m\u001b[0;34m\u001b[0m\u001b[0;34m\u001b[0m\u001b[0m\n\u001b[1;32m     12\u001b[0m         \u001b[0mcost\u001b[0m \u001b[0;34m=\u001b[0m \u001b[0mlater_energy\u001b[0m \u001b[0;34m-\u001b[0m \u001b[0morigin_energy\u001b[0m\u001b[0;34m\u001b[0m\u001b[0;34m\u001b[0m\u001b[0m\n",
      "\u001b[0;31mNameError\u001b[0m: name 'grid' is not defined"
     ]
    }
   ],
   "source": [
    "'''Monte Carlo move using Metropolis algorithm '''\n",
    "N = 3\n",
    "for i in range(N):\n",
    "    for j in range(N):\n",
    "        # 产生0到N-1的随机数\n",
    "        a = np.random.randint(0, N)\n",
    "        b = np.random.randint(0, N)\n",
    "        new_theta = np.random.rand()*math.pi # -0.25pi - 0.25pi\n",
    "        new_beta = np.random.rand()*2*math.pi # -0.25pi - 0.25pi\n",
    "        origin_energy = calculate_single_energy(grid, a, b, alpha)\n",
    "        later_energy = calculate_new_direction_energy(grid,a,b,alpha,new_theta,new_beta)\n",
    "        cost = later_energy - origin_energy\n",
    "        # 如果能量降低接受翻转\n",
    "        if cost < 0:\n",
    "            grid[:,a,b] = [new_theta,new_beta]\n",
    "            print(calculate_total_energy(grid,alpha))\n"
   ]
  },
  {
   "cell_type": "code",
   "execution_count": null,
   "id": "vanilla-palestine",
   "metadata": {},
   "outputs": [],
   "source": [
    "coordination = cal_cartesion(grid)"
   ]
  },
  {
   "cell_type": "code",
   "execution_count": null,
   "id": "experienced-longer",
   "metadata": {},
   "outputs": [],
   "source": [
    "# point1 = coordination[:,2,2]\n",
    "point2 = coordination[:,1,1]"
   ]
  },
  {
   "cell_type": "code",
   "execution_count": null,
   "id": "separate-billion",
   "metadata": {},
   "outputs": [],
   "source": [
    "point3 = coordination[:,(1+1) % 3,1]*alpha[0,(1+1) % 3,1]"
   ]
  },
  {
   "cell_type": "code",
   "execution_count": null,
   "id": "universal-quebec",
   "metadata": {},
   "outputs": [],
   "source": [
    "point2*point3"
   ]
  },
  {
   "cell_type": "code",
   "execution_count": null,
   "id": "uniform-estonia",
   "metadata": {},
   "outputs": [],
   "source": [
    "coordination[:,1,1]"
   ]
  },
  {
   "cell_type": "code",
   "execution_count": null,
   "id": "changed-dream",
   "metadata": {},
   "outputs": [],
   "source": [
    "coordination[:,(1+1) % 3,1]"
   ]
  },
  {
   "cell_type": "code",
   "execution_count": null,
   "id": "proved-maker",
   "metadata": {},
   "outputs": [],
   "source": [
    "alpha[0, (1+1) % 3, 1]"
   ]
  },
  {
   "cell_type": "code",
   "execution_count": null,
   "id": "grand-neighbor",
   "metadata": {},
   "outputs": [],
   "source": [
    "a = np.ones()"
   ]
  },
  {
   "cell_type": "code",
   "execution_count": null,
   "id": "developed-recall",
   "metadata": {},
   "outputs": [],
   "source": [
    "    s = coordination[:,a,b] # 选了一个点，包含x，y，z\n",
    "    E = coordination[:,(a+1) % N,b]*alpha[0,(a+1) % N,b] + \\\n",
    "        coordination[:,a,(b+1) % N]*alpha[1,a,b] + \\\n",
    "        coordination[:,(a-1) % N,b]*alpha[0,a,b] + \\\n",
    "        coordination[:,a,(b-1) % N]*alpha[1,a,(b-1)%N]\n",
    "    single_point_energy = s*E"
   ]
  },
  {
   "cell_type": "code",
   "execution_count": null,
   "id": "linear-perspective",
   "metadata": {},
   "outputs": [],
   "source": [
    "single_point_energy.shape"
   ]
  },
  {
   "cell_type": "code",
   "execution_count": null,
   "id": "armed-style",
   "metadata": {},
   "outputs": [],
   "source": [
    "E"
   ]
  },
  {
   "cell_type": "code",
   "execution_count": null,
   "id": "genuine-female",
   "metadata": {},
   "outputs": [],
   "source": [
    "s.shape"
   ]
  },
  {
   "cell_type": "code",
   "execution_count": null,
   "id": "general-alaska",
   "metadata": {},
   "outputs": [],
   "source": []
  }
 ],
 "metadata": {
  "kernelspec": {
   "display_name": "Python 3",
   "language": "python",
   "name": "python3"
  },
  "language_info": {
   "codemirror_mode": {
    "name": "ipython",
    "version": 3
   },
   "file_extension": ".py",
   "mimetype": "text/x-python",
   "name": "python",
   "nbconvert_exporter": "python",
   "pygments_lexer": "ipython3",
   "version": "3.8.5"
  }
 },
 "nbformat": 4,
 "nbformat_minor": 5
}
