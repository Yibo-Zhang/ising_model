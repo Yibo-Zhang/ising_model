{
 "cells": [
  {
   "cell_type": "code",
   "execution_count": 1,
   "id": "black-yacht",
   "metadata": {},
   "outputs": [],
   "source": [
    "import numpy \n",
    "from main import *\n"
   ]
  },
  {
   "cell_type": "code",
   "execution_count": 2,
   "id": "latter-forest",
   "metadata": {},
   "outputs": [],
   "source": [
    "grid = init_state(3)"
   ]
  },
  {
   "cell_type": "code",
   "execution_count": 4,
   "id": "healthy-blast",
   "metadata": {},
   "outputs": [],
   "source": [
    "x,y,z = cal_projection(grid)"
   ]
  },
  {
   "cell_type": "code",
   "execution_count": 15,
   "id": "imperial-subject",
   "metadata": {},
   "outputs": [
    {
     "data": {
      "text/plain": [
       "1.0"
      ]
     },
     "execution_count": 15,
     "metadata": {},
     "output_type": "execute_result"
    }
   ],
   "source": [
    "np.square(x[2][2])+np.square(y[2][2])+np.square(z[2][2])"
   ]
  },
  {
   "cell_type": "code",
   "execution_count": null,
   "id": "confidential-annotation",
   "metadata": {},
   "outputs": [],
   "source": [
    "^2+y[0][0]^2+z[0][0]^2"
   ]
  }
 ],
 "metadata": {
  "kernelspec": {
   "display_name": "Python 3",
   "language": "python",
   "name": "python3"
  },
  "language_info": {
   "codemirror_mode": {
    "name": "ipython",
    "version": 3
   },
   "file_extension": ".py",
   "mimetype": "text/x-python",
   "name": "python",
   "nbconvert_exporter": "python",
   "pygments_lexer": "ipython3",
   "version": "3.8.5"
  }
 },
 "nbformat": 4,
 "nbformat_minor": 5
}
